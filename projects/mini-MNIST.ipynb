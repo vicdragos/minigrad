{
 "cells": [
  {
   "cell_type": "code",
   "id": "initial_id",
   "metadata": {
    "collapsed": true,
    "ExecuteTime": {
     "end_time": "2025-08-25T19:51:57.822924Z",
     "start_time": "2025-08-25T19:51:57.818440Z"
    }
   },
   "source": [
    "from optimizer import SGD\n",
    "from neural_net import *\n",
    "from engine import Value\n",
    "from sklearn import datasets\n",
    "from sklearn.model_selection import train_test_split\n",
    "import numpy as np"
   ],
   "outputs": [],
   "execution_count": 59
  },
  {
   "metadata": {
    "ExecuteTime": {
     "end_time": "2025-08-25T19:51:59.073670Z",
     "start_time": "2025-08-25T19:51:59.056090Z"
    }
   },
   "cell_type": "code",
   "source": [
    "digits = datasets.load_digits()\n",
    "n_samples = len(digits.images)\n",
    "data = digits.images.reshape((n_samples, -1))\n",
    "n_features = data.shape[1]\n",
    "n_classes = 10\n",
    "data = data / 16 # Normalize the data to [0, 1]\n",
    "X_train, X_test, y_train, y_test = train_test_split(data, digits.target, random_state = 0)\n",
    "X_train[0]"
   ],
   "id": "f8d9c25c331fa410",
   "outputs": [
    {
     "data": {
      "text/plain": [
       "array([0.    , 0.1875, 0.8125, 1.    , 0.5625, 0.    , 0.    , 0.    ,\n",
       "       0.    , 0.625 , 0.9375, 0.8125, 0.9375, 0.125 , 0.    , 0.    ,\n",
       "       0.    , 0.9375, 0.25  , 0.25  , 1.    , 0.0625, 0.    , 0.    ,\n",
       "       0.    , 0.    , 0.    , 0.3125, 1.    , 0.125 , 0.    , 0.    ,\n",
       "       0.    , 0.    , 0.0625, 0.875 , 0.8125, 0.    , 0.    , 0.    ,\n",
       "       0.    , 0.    , 0.625 , 1.    , 0.3125, 0.    , 0.    , 0.    ,\n",
       "       0.    , 0.25  , 1.    , 0.8125, 0.5   , 0.625 , 0.5625, 0.0625,\n",
       "       0.    , 0.125 , 1.    , 1.    , 0.875 , 0.75  , 0.5625, 0.0625])"
      ]
     },
     "execution_count": 60,
     "metadata": {},
     "output_type": "execute_result"
    }
   ],
   "execution_count": 60
  },
  {
   "metadata": {
    "ExecuteTime": {
     "end_time": "2025-08-25T19:55:25.173611Z",
     "start_time": "2025-08-25T19:52:01.664155Z"
    }
   },
   "cell_type": "code",
   "source": [
    "model = MLP(n_features, [32, 16, n_classes], act = 'relu')\n",
    "optim = SGD(model.parameters(), lr = 0.05)\n",
    "\n",
    "epochs = 5\n",
    "for epoch in range(epochs):\n",
    "    for i in range(len(X_train)):\n",
    "        # Convert to Value data type\n",
    "        inputs = [Value(x) for x in X_train[i]]\n",
    "\n",
    "        # Forward pass\n",
    "        logits = model(inputs)\n",
    "        loss = cross_entropy_loss(logits, [int(y_train[i])])\n",
    "\n",
    "        # Reset gradients\n",
    "        optim.zero_grad()\n",
    "\n",
    "        # Backward pass\n",
    "        loss.backward()\n",
    "\n",
    "        # Update steps\n",
    "        optim.step()\n",
    "\n",
    "    n_correct = 0\n",
    "    for i in range(len(X_test)):\n",
    "        inputs = [Value(x) for x in X_test[i]]\n",
    "\n",
    "        ypred = model(inputs)\n",
    "        index = np.argmax([y.data for y in ypred])\n",
    "\n",
    "        n_correct += index == y_test[i]\n",
    "    accuracy = n_correct / len(X_test)\n",
    "    print(f\"Epoch {epoch+1}, Accuracy: {accuracy*100:.2f}%\")\n",
    "\n",
    "\n",
    "\n",
    "\n"
   ],
   "id": "a73db16a73ef4fc1",
   "outputs": [
    {
     "name": "stdout",
     "output_type": "stream",
     "text": [
      "Epoch 1, Accuracy: 55.33%\n",
      "Epoch 2, Accuracy: 80.44%\n",
      "Epoch 3, Accuracy: 85.78%\n",
      "Epoch 4, Accuracy: 87.78%\n",
      "Epoch 5, Accuracy: 87.78%\n"
     ]
    }
   ],
   "execution_count": 61
  }
 ],
 "metadata": {
  "kernelspec": {
   "display_name": "Python 3",
   "language": "python",
   "name": "python3"
  },
  "language_info": {
   "codemirror_mode": {
    "name": "ipython",
    "version": 2
   },
   "file_extension": ".py",
   "mimetype": "text/x-python",
   "name": "python",
   "nbconvert_exporter": "python",
   "pygments_lexer": "ipython2",
   "version": "2.7.6"
  }
 },
 "nbformat": 4,
 "nbformat_minor": 5
}
